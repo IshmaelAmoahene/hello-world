{
 "cells": [
  {
   "cell_type": "code",
   "execution_count": 3,
   "metadata": {},
   "outputs": [
    {
     "name": "stderr",
     "output_type": "stream",
     "text": [
      "Warning message:\n",
      "\"package 'conjoint' was built under R version 3.4.4\"\n",
      "This is package 'modeest' written by P. PONCET.\n",
      "For a complete list of functions, use 'library(help = \"modeest\")' or 'help.start()'.\n",
      "\n"
     ]
    }
   ],
   "source": [
    "library(conjoint)"
   ]
  },
  {
   "cell_type": "code",
   "execution_count": 4,
   "metadata": {},
   "outputs": [],
   "source": [
    "# Load Data into R\n",
    "conjoint.r <- read.csv(\"C:/Users/IAmoah01/AnacondaProjects/0.1 Senior Data Scientist - R Projects/4 Predicting Customer Choice - Conjoint - Preference/R Conjoint - From Marketing Data Science/conjoint-r.csv\", header=FALSE)\n",
    "conjoint.r.level.names <- read.csv(\"C:/Users/IAmoah01/AnacondaProjects/0.1 Senior Data Scientist - R Projects/4 Predicting Customer Choice - Conjoint - Preference/R Conjoint - From Marketing Data Science/conjoint-r-level-names.csv\", sep=\"\")\n",
    "conjoint.r.profiles.matrix <- read.csv(\"C:/Users/IAmoah01/AnacondaProjects/0.1 Senior Data Scientist - R Projects/4 Predicting Customer Choice - Conjoint - Preference/R Conjoint - From Marketing Data Science/conjoint-r-profiles-matrix.csv\")\n"
   ]
  },
  {
   "cell_type": "code",
   "execution_count": 7,
   "metadata": {},
   "outputs": [
    {
     "data": {
      "text/html": [
       "<table>\n",
       "<thead><tr><th scope=col>V1</th><th scope=col>V2</th><th scope=col>V3</th><th scope=col>V4</th><th scope=col>V5</th><th scope=col>V6</th></tr></thead>\n",
       "<tbody>\n",
       "\t<tr><td>profile1</td><td>profile2</td><td>profile3</td><td>profile4</td><td>profile5</td><td>profile6</td></tr>\n",
       "\t<tr><td>2       </td><td>1       </td><td>4       </td><td>2       </td><td>3       </td><td>3       </td></tr>\n",
       "\t<tr><td>4       </td><td>3       </td><td>5       </td><td>1       </td><td>1       </td><td>3       </td></tr>\n",
       "\t<tr><td>3       </td><td>4       </td><td>1       </td><td>2       </td><td>3       </td><td>2       </td></tr>\n",
       "\t<tr><td>1       </td><td>2       </td><td>3       </td><td>1       </td><td>3       </td><td>2       </td></tr>\n",
       "\t<tr><td>2       </td><td>3       </td><td>2       </td><td>3       </td><td>3       </td><td>2       </td></tr>\n",
       "</tbody>\n",
       "</table>\n"
      ],
      "text/latex": [
       "\\begin{tabular}{r|llllll}\n",
       " V1 & V2 & V3 & V4 & V5 & V6\\\\\n",
       "\\hline\n",
       "\t profile1 & profile2 & profile3 & profile4 & profile5 & profile6\\\\\n",
       "\t 2        & 1        & 4        & 2        & 3        & 3       \\\\\n",
       "\t 4        & 3        & 5        & 1        & 1        & 3       \\\\\n",
       "\t 3        & 4        & 1        & 2        & 3        & 2       \\\\\n",
       "\t 1        & 2        & 3        & 1        & 3        & 2       \\\\\n",
       "\t 2        & 3        & 2        & 3        & 3        & 2       \\\\\n",
       "\\end{tabular}\n"
      ],
      "text/markdown": [
       "\n",
       "V1 | V2 | V3 | V4 | V5 | V6 | \n",
       "|---|---|---|---|---|---|\n",
       "| profile1 | profile2 | profile3 | profile4 | profile5 | profile6 | \n",
       "| 2        | 1        | 4        | 2        | 3        | 3        | \n",
       "| 4        | 3        | 5        | 1        | 1        | 3        | \n",
       "| 3        | 4        | 1        | 2        | 3        | 2        | \n",
       "| 1        | 2        | 3        | 1        | 3        | 2        | \n",
       "| 2        | 3        | 2        | 3        | 3        | 2        | \n",
       "\n",
       "\n"
      ],
      "text/plain": [
       "  V1       V2       V3       V4       V5       V6      \n",
       "1 profile1 profile2 profile3 profile4 profile5 profile6\n",
       "2 2        1        4        2        3        3       \n",
       "3 4        3        5        1        1        3       \n",
       "4 3        4        1        2        3        2       \n",
       "5 1        2        3        1        3        2       \n",
       "6 2        3        2        3        3        2       "
      ]
     },
     "metadata": {},
     "output_type": "display_data"
    }
   ],
   "source": [
    "# Preview data\n",
    "head(conjoint.r)"
   ]
  },
  {
   "cell_type": "code",
   "execution_count": 8,
   "metadata": {},
   "outputs": [
    {
     "data": {
      "text/html": [
       "<table>\n",
       "<thead><tr><th scope=col>levels</th></tr></thead>\n",
       "<tbody>\n",
       "\t<tr><td>edit              </td></tr>\n",
       "\t<tr><td>filter            </td></tr>\n",
       "\t<tr><td>collage           </td></tr>\n",
       "\t<tr><td>content_source_one</td></tr>\n",
       "\t<tr><td>content_source_two</td></tr>\n",
       "\t<tr><td>content_type_one  </td></tr>\n",
       "</tbody>\n",
       "</table>\n"
      ],
      "text/latex": [
       "\\begin{tabular}{r|l}\n",
       " levels\\\\\n",
       "\\hline\n",
       "\t edit              \\\\\n",
       "\t filter            \\\\\n",
       "\t collage           \\\\\n",
       "\t content\\_source\\_one\\\\\n",
       "\t content\\_source\\_two\\\\\n",
       "\t content\\_type\\_one  \\\\\n",
       "\\end{tabular}\n"
      ],
      "text/markdown": [
       "\n",
       "levels | \n",
       "|---|---|---|---|---|---|\n",
       "| edit               | \n",
       "| filter             | \n",
       "| collage            | \n",
       "| content_source_one | \n",
       "| content_source_two | \n",
       "| content_type_one   | \n",
       "\n",
       "\n"
      ],
      "text/plain": [
       "  levels            \n",
       "1 edit              \n",
       "2 filter            \n",
       "3 collage           \n",
       "4 content_source_one\n",
       "5 content_source_two\n",
       "6 content_type_one  "
      ]
     },
     "metadata": {},
     "output_type": "display_data"
    }
   ],
   "source": [
    "# Preview data\n",
    "head(conjoint.r.level.names)"
   ]
  },
  {
   "cell_type": "code",
   "execution_count": 9,
   "metadata": {},
   "outputs": [
    {
     "data": {
      "text/html": [
       "<table>\n",
       "<thead><tr><th scope=col>photos</th><th scope=col>content.source</th><th scope=col>content.type</th></tr></thead>\n",
       "<tbody>\n",
       "\t<tr><td>2</td><td>1</td><td>2</td></tr>\n",
       "\t<tr><td>2</td><td>2</td><td>3</td></tr>\n",
       "\t<tr><td>3</td><td>1</td><td>1</td></tr>\n",
       "\t<tr><td>3</td><td>2</td><td>2</td></tr>\n",
       "\t<tr><td>1</td><td>1</td><td>2</td></tr>\n",
       "\t<tr><td>1</td><td>2</td><td>2</td></tr>\n",
       "</tbody>\n",
       "</table>\n"
      ],
      "text/latex": [
       "\\begin{tabular}{r|lll}\n",
       " photos & content.source & content.type\\\\\n",
       "\\hline\n",
       "\t 2 & 1 & 2\\\\\n",
       "\t 2 & 2 & 3\\\\\n",
       "\t 3 & 1 & 1\\\\\n",
       "\t 3 & 2 & 2\\\\\n",
       "\t 1 & 1 & 2\\\\\n",
       "\t 1 & 2 & 2\\\\\n",
       "\\end{tabular}\n"
      ],
      "text/markdown": [
       "\n",
       "photos | content.source | content.type | \n",
       "|---|---|---|---|---|---|\n",
       "| 2 | 1 | 2 | \n",
       "| 2 | 2 | 3 | \n",
       "| 3 | 1 | 1 | \n",
       "| 3 | 2 | 2 | \n",
       "| 1 | 1 | 2 | \n",
       "| 1 | 2 | 2 | \n",
       "\n",
       "\n"
      ],
      "text/plain": [
       "  photos content.source content.type\n",
       "1 2      1              2           \n",
       "2 2      2              3           \n",
       "3 3      1              1           \n",
       "4 3      2              2           \n",
       "5 1      1              2           \n",
       "6 1      2              2           "
      ]
     },
     "metadata": {},
     "output_type": "display_data"
    }
   ],
   "source": [
    "# Preview data\n",
    "head(conjoint.r.profiles.matrix)"
   ]
  },
  {
   "cell_type": "code",
   "execution_count": 10,
   "metadata": {},
   "outputs": [
    {
     "name": "stderr",
     "output_type": "stream",
     "text": [
      "Warning message in model.response(mf, \"numeric\"):\n",
      "\"using type = \"numeric\" with a factor response will be ignored\"Warning message in Ops.factor(y, z$residuals):\n",
      "\"'-' not meaningful for factors\"Warning message in Ops.factor(r, 2):\n",
      "\"'^' not meaningful for factors\""
     ]
    },
    {
     "name": "stdout",
     "output_type": "stream",
     "text": [
      "\n",
      "Call:\n",
      "lm(formula = frml)\n",
      "\n",
      "Residuals:\n",
      "ALL 6 residuals are 0: no residual degrees of freedom!\n",
      "\n",
      "Coefficients:\n",
      "                            Estimate Std. Error t value Pr(>|t|)\n",
      "(Intercept)                3,500e+00         NA      NA       NA\n",
      "factor(x$photos)1          2,000e+00         NA      NA       NA\n",
      "factor(x$photos)2         -2,000e+00         NA      NA       NA\n",
      "factor(x$content.source)1 -5,000e-01         NA      NA       NA\n",
      "factor(x$content.type)1    6,916e-16         NA      NA       NA\n",
      "factor(x$content.type)2    6,277e-16         NA      NA       NA\n",
      "\n",
      "Residual standard error: NA on 0 degrees of freedom\n",
      "Multiple R-squared:     NA,\tAdjusted R-squared:     NA \n",
      "F-statistic:    NA on 5 and 0 DF,  p-value: NA\n",
      "\n"
     ]
    },
    {
     "data": {
      "text/html": [
       "<ol class=list-inline>\n",
       "\t<li>3.5</li>\n",
       "\t<li>2</li>\n",
       "\t<li>-2</li>\n",
       "\t<li>-4.44089209850063e-16</li>\n",
       "\t<li>-0.5</li>\n",
       "\t<li>0.5</li>\n",
       "\t<li>6.91575651608668e-16</li>\n",
       "\t<li>6.27660138987568e-16</li>\n",
       "\t<li>-1.31923579059624e-15</li>\n",
       "</ol>\n"
      ],
      "text/latex": [
       "\\begin{enumerate*}\n",
       "\\item 3.5\n",
       "\\item 2\n",
       "\\item -2\n",
       "\\item -4.44089209850063e-16\n",
       "\\item -0.5\n",
       "\\item 0.5\n",
       "\\item 6.91575651608668e-16\n",
       "\\item 6.27660138987568e-16\n",
       "\\item -1.31923579059624e-15\n",
       "\\end{enumerate*}\n"
      ],
      "text/markdown": [
       "1. 3.5\n",
       "2. 2\n",
       "3. -2\n",
       "4. -4.44089209850063e-16\n",
       "5. -0.5\n",
       "6. 0.5\n",
       "7. 6.91575651608668e-16\n",
       "8. 6.27660138987568e-16\n",
       "9. -1.31923579059624e-15\n",
       "\n",
       "\n"
      ],
      "text/plain": [
       "[1]  3.500000e+00  2.000000e+00 -2.000000e+00 -4.440892e-16 -5.000000e-01\n",
       "[6]  5.000000e-01  6.915757e-16  6.276601e-16 -1.319236e-15"
      ]
     },
     "metadata": {},
     "output_type": "display_data"
    }
   ],
   "source": [
    "# Model some of our data - for an individual\n",
    "caUtilities(y=conjoint.r[1,], x=conjoint.r.profiles.matrix, z=conjoint.r.level.names )\n",
    "\n",
    "# Model all of our data"
   ]
  },
  {
   "cell_type": "code",
   "execution_count": 11,
   "metadata": {},
   "outputs": [
    {
     "name": "stderr",
     "output_type": "stream",
     "text": [
      "Warning message in model.response(mf, \"numeric\"):\n",
      "\"using type = \"numeric\" with a factor response will be ignored\"Warning message in Ops.factor(y, z$residuals):\n",
      "\"'-' not meaningful for factors\"Warning message in Ops.factor(r, 2):\n",
      "\"'^' not meaningful for factors\""
     ]
    },
    {
     "name": "stdout",
     "output_type": "stream",
     "text": [
      "\n",
      "Call:\n",
      "lm(formula = frml)\n",
      "\n",
      "Residuals:\n"
     ]
    },
    {
     "ename": "ERROR",
     "evalue": "Error in quantile.default(resid): factors are not allowed\n",
     "output_type": "error",
     "traceback": [
      "Error in quantile.default(resid): factors are not allowed\nTraceback:\n",
      "1. caUtilities(y = conjoint.r, x = conjoint.r.profiles.matrix, z = conjoint.r.level.names)",
      "2. print(summary.lm(camodel))",
      "3. print.summary.lm(summary.lm(camodel))",
      "4. zapsmall(quantile(resid), digits + 1L)",
      "5. quantile(resid)",
      "6. quantile.default(resid)",
      "7. stop(\"factors are not allowed\")"
     ]
    }
   ],
   "source": [
    "# Model all of our data\n",
    "caUtilities(y=conjoint.r, x=conjoint.r.profiles.matrix, z=conjoint.r.level.names )"
   ]
  },
  {
   "cell_type": "code",
   "execution_count": null,
   "metadata": {},
   "outputs": [],
   "source": []
  }
 ],
 "metadata": {
  "kernelspec": {
   "display_name": "R",
   "language": "R",
   "name": "ir"
  },
  "language_info": {
   "codemirror_mode": "r",
   "file_extension": ".r",
   "mimetype": "text/x-r-source",
   "name": "R",
   "pygments_lexer": "r",
   "version": "3.4.2"
  }
 },
 "nbformat": 4,
 "nbformat_minor": 2
}
